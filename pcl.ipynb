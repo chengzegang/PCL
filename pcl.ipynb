{
 "cells": [
  {
   "cell_type": "code",
   "execution_count": 1,
   "metadata": {},
   "outputs": [],
   "source": [
    "import torch\n",
    "from pcl import train, models\n",
    "import tarfile\n",
    "from habitat_dataset import Habitat\n",
    "from tqdm.auto import tqdm\n",
    "import os"
   ]
  },
  {
   "cell_type": "code",
   "execution_count": 5,
   "metadata": {},
   "outputs": [],
   "source": [
    "if not os.path.exists(\"data/Crandon\"):\n",
    "    tar = tarfile.open(\"data/Crandon.tar\")\n",
    "    tar.extractall(\"data\")\n",
    "\n",
    "\n",
    "dataset = Habitat(\"data/Crandon\")"
   ]
  },
  {
   "cell_type": "code",
   "execution_count": 6,
   "metadata": {},
   "outputs": [
    {
     "data": {
      "application/vnd.jupyter.widget-view+json": {
       "model_id": "fdc6bfe468304edf93c9b1198a76d807",
       "version_major": 2,
       "version_minor": 0
      },
      "text/plain": [
       "Training:   0%|          | 0/100 [00:00<?, ?it/s]"
      ]
     },
     "metadata": {},
     "output_type": "display_data"
    }
   ],
   "source": [
    "model = models.build(\"resnet18\", pretrained=True, feature_size=512)\n",
    "model = train.start(\n",
    "    model,\n",
    "    dataset,\n",
    "    \"cuda\",\n",
    "    batch_size=32,\n",
    "    total_epochs=100,\n",
    "    num_workers=4,\n",
    "    num_cluster_iters=5,\n",
    "    num_kmeans_iters=10,\n",
    "    temporature=0.1,\n",
    "    concentration=0.1,\n",
    "    momentum=0.95,\n",
    "    verbose=True,\n",
    ")\n"
   ]
  },
  {
   "cell_type": "code",
   "execution_count": null,
   "metadata": {},
   "outputs": [],
   "source": []
  }
 ],
 "metadata": {
  "kernelspec": {
   "display_name": "base",
   "language": "python",
   "name": "python3"
  },
  "language_info": {
   "codemirror_mode": {
    "name": "ipython",
    "version": 3
   },
   "file_extension": ".py",
   "mimetype": "text/x-python",
   "name": "python",
   "nbconvert_exporter": "python",
   "pygments_lexer": "ipython3",
   "version": "3.10.9"
  },
  "orig_nbformat": 4,
  "vscode": {
   "interpreter": {
    "hash": "31d23320fb02b4df4e2df51e36851867ddef600d7ff673f6f449b0dd5776f941"
   }
  }
 },
 "nbformat": 4,
 "nbformat_minor": 2
}
